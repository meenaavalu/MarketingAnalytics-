{
 "metadata": {
  "kernelspec": {
   "display_name": "Streamlit Notebook",
   "name": "streamlit"
  },
  "lastEditStatus": {
   "notebookId": "2n633w2vx7omptwn472k",
   "authorId": "718674784046",
   "authorName": "MEENAARAVISELVAM",
   "authorEmail": "meenaaraviselvam@usf.edu",
   "sessionId": "1bc78d7b-d8f5-4c1c-b383-5693e58fb2fb",
   "lastEditTime": 1742775377411
  }
 },
 "nbformat_minor": 5,
 "nbformat": 4,
 "cells": [
  {
   "cell_type": "markdown",
   "id": "e6b0d8fb-553f-4715-9c8a-4b9e392e5ea4",
   "metadata": {
    "name": "cell4",
    "collapsed": false
   },
   "source": "### Import Required Libraries"
  },
  {
   "cell_type": "code",
   "id": "3775908f-ca36-4846-8f38-5adca39217f2",
   "metadata": {
    "language": "python",
    "name": "cell1"
   },
   "source": "import pandas as pd\nimport nltk\nfrom vaderSentiment.vaderSentiment import SentimentIntensityAnalyzer\nfrom snowflake.snowpark.session import Session\nfrom snowflake.snowpark.functions import col\n",
   "execution_count": null,
   "outputs": []
  },
  {
   "cell_type": "markdown",
   "id": "9e39f30a-4d6c-40a1-a9a7-335d50798375",
   "metadata": {
    "name": "cell3",
    "collapsed": false
   },
   "source": "### Connecting to Snowflake"
  },
  {
   "cell_type": "code",
   "id": "ee7285b6-fff9-4f61-9434-19121a2dd553",
   "metadata": {
    "language": "python",
    "name": "cell2"
   },
   "outputs": [],
   "source": "# Creating a Snowflake session inside the notebook\nsession = Session.builder.getOrCreate()\n",
   "execution_count": null
  },
  {
   "cell_type": "markdown",
   "id": "ea0c8a44-32a8-4da9-a4af-4fe39a9d3436",
   "metadata": {
    "name": "cell5",
    "collapsed": false
   },
   "source": "### Fetch Data from Snowflake Table"
  },
  {
   "cell_type": "code",
   "id": "56e23884-1481-4942-ae87-f6d73be8cfce",
   "metadata": {
    "language": "python",
    "name": "cell6"
   },
   "outputs": [],
   "source": "# Read customer reviews table from Snowflake\ncustomer_reviews_df = session.table(\"MARKETINGANALYTICS.CUSTOMER.CUSTOMER_REVIEWS\").to_pandas()",
   "execution_count": null
  },
  {
   "cell_type": "markdown",
   "id": "c869ee43-2b59-4dc5-9ff2-41ee34215c81",
   "metadata": {
    "name": "cell7",
    "collapsed": false
   },
   "source": "### Performing Sentiment Analysis"
  },
  {
   "cell_type": "code",
   "id": "0e29b858-9955-421c-b582-8323d22e570d",
   "metadata": {
    "language": "python",
    "name": "cell8"
   },
   "outputs": [],
   "source": "# Initialize Sentiment Analyzer\nsia = SentimentIntensityAnalyzer()\n\n# Function to calculate sentiment score\ndef calculate_sentiment(review):\n    sentiment = sia.polarity_scores(review)\n    return sentiment['compound']\n\n# Function to categorize sentiment based on score and rating\ndef categorize_sentiment(score, rating):\n    if score > 0.05:\n        return 'Positive' if rating >= 4 else 'Mixed Positive' if rating == 3 else 'Mixed Negative'\n    elif score < -0.05:\n        return 'Negative' if rating <= 2 else 'Mixed Negative' if rating == 3 else 'Mixed Positive'\n    else:\n        return 'Neutral' if rating == 3 else 'Positive' if rating >= 4 else 'Negative'\n\n# Function to bucket sentiment scores\ndef sentiment_bucket(score):\n    if score >= 0.5:\n        return '0.5 to 1.0'\n    elif 0.0 <= score < 0.5:\n        return '0.0 to 0.49'\n    elif -0.5 <= score < 0.0:\n        return '-0.49 to 0.0'\n    else:\n        return '-1.0 to -0.5'\n",
   "execution_count": null
  },
  {
   "cell_type": "markdown",
   "id": "0eeb15b0-38f7-4917-8958-0bee1d6dbd06",
   "metadata": {
    "name": "cell9",
    "collapsed": false
   },
   "source": "### Apply Sentiment Analysis to DataFrame"
  },
  {
   "cell_type": "code",
   "id": "d10cf487-6a32-43c3-8074-9c3fa62bd436",
   "metadata": {
    "language": "python",
    "name": "cell10"
   },
   "outputs": [],
   "source": "# Apply sentiment analysis\ncustomer_reviews_df['SentimentScore'] = customer_reviews_df['REVIEWTEXT'].apply(calculate_sentiment)\n\n# Apply sentiment categorization\ncustomer_reviews_df['SentimentCategory'] = customer_reviews_df.apply(\n    lambda row: categorize_sentiment(row['SentimentScore'], row['RATING']), axis=1)\n\n# Apply sentiment bucketing\ncustomer_reviews_df['SentimentBucket'] = customer_reviews_df['SentimentScore'].apply(sentiment_bucket)\n",
   "execution_count": null
  },
  {
   "cell_type": "markdown",
   "id": "071a7e96-4a33-4739-aa31-cf202248c52f",
   "metadata": {
    "name": "cell11",
    "collapsed": false
   },
   "source": "### Store the Processed Data Back into Snowflake"
  },
  {
   "cell_type": "code",
   "id": "3c141597-dc7e-42cd-abf1-f1b6d6b8625a",
   "metadata": {
    "language": "python",
    "name": "cell12"
   },
   "outputs": [],
   "source": "# Convert Pandas DataFrame back to Snowpark DataFrame\nsnowpark_df = session.create_dataframe(customer_reviews_df)\n\n# Save the transformed data as a new table\nsnowpark_df.write.mode(\"overwrite\").save_as_table(\"customer_reviews_with_sentiment\")\n",
   "execution_count": null
  }
 ]
}